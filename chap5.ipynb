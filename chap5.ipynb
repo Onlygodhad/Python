{
 "cells": [
  {
   "cell_type": "markdown",
   "metadata": {},
   "source": [
    "## numpy 套件"
   ]
  },
  {
   "cell_type": "code",
   "execution_count": 1,
   "metadata": {},
   "outputs": [
    {
     "name": "stdout",
     "output_type": "stream",
     "text": [
      "[1, 2, 3, 4, 5, 1, 2, 3, 4, 5, 1, 2, 3, 4, 5]\n"
     ]
    }
   ],
   "source": [
    "a_list=[1,2,3,4,5]  #宣告串列\n",
    "print(a_list*3)  "
   ]
  },
  {
   "cell_type": "code",
   "execution_count": 2,
   "metadata": {},
   "outputs": [
    {
     "name": "stdout",
     "output_type": "stream",
     "text": [
      "[ 3  6  9 12 15]\n"
     ]
    }
   ],
   "source": [
    "#numpy套件的ndarray型態，提供element-wise的操作\n",
    "import numpy as np\n",
    "a_ndarray=np.array([1,2,3,4,5])\n",
    "print(a_ndarray*3) #將a_ndarray串列中的值乘上3"
   ]
  },
  {
   "cell_type": "code",
   "execution_count": 3,
   "metadata": {},
   "outputs": [
    {
     "name": "stdout",
     "output_type": "stream",
     "text": [
      "<class 'numpy.ndarray'>\n",
      "1\n",
      "(5,)\n",
      "int32\n"
     ]
    }
   ],
   "source": [
    "print(type(a_ndarray))  \n",
    "print(a_ndarray.ndim) #ndarray的維度\n",
    "print(a_ndarray.shape) #ndarray的shape\n",
    "print(a_ndarray.dtype) #ndarray的資料類型"
   ]
  },
  {
   "cell_type": "code",
   "execution_count": 4,
   "metadata": {},
   "outputs": [
    {
     "name": "stdout",
     "output_type": "stream",
     "text": [
      "[0. 0. 0. 0. 0. 0.]\n",
      "[[0. 0. 0. 0. 0. 0.]\n",
      " [0. 0. 0. 0. 0. 0.]]\n",
      "[[[6.23042070e-307 3.56043053e-307]\n",
      "  [1.60219306e-306 7.56571288e-307]\n",
      "  [1.89146896e-307 1.37961302e-306]\n",
      "  [1.05699242e-307 8.01097889e-307]\n",
      "  [1.78020169e-306 7.56601165e-307]\n",
      "  [1.02359984e-306 1.33510679e-306]]\n",
      "\n",
      " [[2.22522597e-306 1.33511018e-306]\n",
      "  [6.23057689e-307 1.86921279e-306]\n",
      "  [8.90098127e-307 1.78020848e-306]\n",
      "  [1.60219035e-306 1.42418172e-306]\n",
      "  [2.04712906e-306 1.00132653e-307]\n",
      "  [8.90111708e-307 2.10077583e-312]]]\n",
      "[ 0  1  2  3  4  5  6  7  8  9 10]\n"
     ]
    }
   ],
   "source": [
    "print(np.zeros(6))  # 六個元素均為零的 1d array\n",
    "print(np.zeros((2, 6))) # 十二個元素均為零的 2d array\n",
    "print(np.empty((2, 6, 2))) # 二十四個元素均為未初始化的值\n",
    "print(np.arange(11)) # 十一個元素為 0 到 10 的 1d array"
   ]
  },
  {
   "cell_type": "markdown",
   "metadata": {},
   "source": [
    "## ndarray的進階操作"
   ]
  },
  {
   "cell_type": "code",
   "execution_count": 5,
   "metadata": {},
   "outputs": [
    {
     "name": "stdout",
     "output_type": "stream",
     "text": [
      "[0 1 2 3 4 5 6 7 8 9]\n",
      "0\n",
      "[0 1 2 3 4]\n"
     ]
    }
   ],
   "source": [
    "my_array = np.arange(10) #宣告10個元素\n",
    "print(my_array) \n",
    "print(my_array[0])\n",
    "print(my_array[0:5]) "
   ]
  },
  {
   "cell_type": "code",
   "execution_count": 6,
   "metadata": {},
   "outputs": [
    {
     "name": "stdout",
     "output_type": "stream",
     "text": [
      "[[0 1 2 3 4]\n",
      " [5 6 7 8 9]]\n",
      "[5 6 7 8 9]\n",
      "[1 6]\n",
      "6\n"
     ]
    }
   ],
   "source": [
    "#二維ndarray取值\n",
    "my_2d_array = np.array([np.arange(0, 5), np.arange(5, 10)])\n",
    "print(my_2d_array)\n",
    "print(my_2d_array[1, :]) \n",
    "print(my_2d_array[:, 1]) \n",
    "print(my_2d_array[1, 1]) # 第二列第二欄的元素"
   ]
  },
  {
   "cell_type": "code",
   "execution_count": 7,
   "metadata": {},
   "outputs": [
    {
     "name": "stdout",
     "output_type": "stream",
     "text": [
      "[56  8 19 14  6 71]\n",
      "['Modern Web' 'DevOps' 'Cloud' 'Big Data' 'Security' '自我挑戰組']\n"
     ]
    }
   ],
   "source": [
    "#假設有六個組別\"Modern Web\", \"DevOps\", \"Cloud\", \"Big Data\", \"Security\", \"自我挑戰組\"，\n",
    "#其參加人數分別為56, 8, 19, 14, 6, 71人\n",
    "ironmen = [56, 8, 19, 14, 6, 71]  \n",
    "groups = [\"Modern Web\", \"DevOps\", \"Cloud\", \"Big Data\", \"Security\", \"自我挑戰組\"]\n",
    "ironmen_array = np.array(ironmen)\n",
    "groups_array = np.array(groups)\n",
    "print(ironmen_array)#\n",
    "print(groups_array) "
   ]
  },
  {
   "cell_type": "code",
   "execution_count": 8,
   "metadata": {},
   "outputs": [
    {
     "name": "stdout",
     "output_type": "stream",
     "text": [
      "[ True False  True  True False  True]\n",
      "['Modern Web' 'Cloud' 'Big Data' '自我挑戰組']\n",
      "[ True  True  True  True  True False]\n",
      "[56  8 19 14  6]\n"
     ]
    }
   ],
   "source": [
    "# 用人數去篩選組別\n",
    "print(ironmen_array >= 10) # 布林值陣列\n",
    "print(groups_array[ironmen_array >= 10]) # 鐵人數大於 10 的組別\n",
    "# 用組別去篩選人數\n",
    "print(groups_array != \"自我挑戰組\") # 布林值陣列\n",
    "print(ironmen_array[groups_array != \"自我挑戰組\"]) # 除了自我挑戰組以外的鐵人數"
   ]
  },
  {
   "cell_type": "markdown",
   "metadata": {},
   "source": [
    "## Ndarray轉置"
   ]
  },
  {
   "cell_type": "code",
   "execution_count": 11,
   "metadata": {},
   "outputs": [
    {
     "name": "stdout",
     "output_type": "stream",
     "text": [
      "[0 1 2 3 4 5 6 7 8 9]\n",
      "[[0 1 2 3 4]\n",
      " [5 6 7 8 9]]\n",
      "[[0 5]\n",
      " [1 6]\n",
      " [2 7]\n",
      " [3 8]\n",
      " [4 9]]\n"
     ]
    }
   ],
   "source": [
    "my_1d_array = np.arange(10)  #宣告10個元素\n",
    "print(my_1d_array) \n",
    "my_2d_array = my_1d_array.reshape((2, 5)) #更改array的外型\n",
    "print(my_2d_array)\n",
    "print(my_2d_array.T)"
   ]
  },
  {
   "cell_type": "code",
   "execution_count": 12,
   "metadata": {},
   "outputs": [
    {
     "name": "stdout",
     "output_type": "stream",
     "text": [
      "[[ 0  1  2  3  4  5]\n",
      " [ 6  7  8  9 10 11]\n",
      " [12 13 14 15 16 17]\n",
      " [18 19 20 21 22 23]]\n"
     ]
    }
   ],
   "source": [
    "print(np.arange(24).reshape(4,6))#印出24個元素，4列*6行"
   ]
  },
  {
   "cell_type": "markdown",
   "metadata": {},
   "source": [
    "## ndarray nan(空值) 與 inf(無窮大)"
   ]
  },
  {
   "cell_type": "code",
   "execution_count": 13,
   "metadata": {},
   "outputs": [
    {
     "name": "stdout",
     "output_type": "stream",
     "text": [
      "[56.  8. 19. 14.  6. nan]\n"
     ]
    }
   ],
   "source": [
    "nan_array = np.array([56, 8, 19, 14, 6, np.nan])\n",
    "print(nan_array)"
   ]
  },
  {
   "cell_type": "code",
   "execution_count": 14,
   "metadata": {},
   "outputs": [
    {
     "name": "stdout",
     "output_type": "stream",
     "text": [
      "[-2.39597116  0.26732782  0.86307853  0.29951624  0.84709317 -0.44122797\n",
      " -0.39473886 -0.74646657  0.06501884  0.67882333]\n",
      "---\n",
      "[0.69660615 0.52317718 0.20874566 0.17076752 0.54280628 0.85086416\n",
      " 0.273885   0.77133527 0.41345044 0.96511942]\n"
     ]
    }
   ],
   "source": [
    "normal_samples = np.random.normal(size = 10) \n",
    "# 生成 10 組標準常態分配（平均值為 0，標準差為 1 的常態分配）隨機變數\n",
    "uniform_samples = np.random.uniform(size = 10) \n",
    "# 生成 10 組介於 0 與 1 之間均勻分配隨機變數\n",
    "\n",
    "print(normal_samples)\n",
    "print(\"---\") \n",
    "print(uniform_samples)"
   ]
  },
  {
   "cell_type": "code",
   "execution_count": null,
   "metadata": {},
   "outputs": [],
   "source": []
  }
 ],
 "metadata": {
  "kernelspec": {
   "display_name": "Python 3",
   "language": "python",
   "name": "python3"
  },
  "language_info": {
   "codemirror_mode": {
    "name": "ipython",
    "version": 3
   },
   "file_extension": ".py",
   "mimetype": "text/x-python",
   "name": "python",
   "nbconvert_exporter": "python",
   "pygments_lexer": "ipython3",
   "version": "3.7.6"
  }
 },
 "nbformat": 4,
 "nbformat_minor": 4
}
