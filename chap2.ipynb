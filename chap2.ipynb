{
 "cells": [
  {
   "cell_type": "code",
   "execution_count": 1,
   "metadata": {},
   "outputs": [
    {
     "name": "stdout",
     "output_type": "stream",
     "text": [
      "8\n"
     ]
    }
   ],
   "source": [
    "a=3      \n",
    "b=5        \n",
    "print(a+b)  "
   ]
  },
  {
   "cell_type": "code",
   "execution_count": 2,
   "metadata": {},
   "outputs": [
    {
     "name": "stdout",
     "output_type": "stream",
     "text": [
      "8\n"
     ]
    }
   ],
   "source": [
    "a=3    \n",
    "b=5    \n",
    "print(a+b) "
   ]
  },
  {
   "cell_type": "code",
   "execution_count": 3,
   "metadata": {},
   "outputs": [
    {
     "name": "stdout",
     "output_type": "stream",
     "text": [
      "10\n",
      "1\n"
     ]
    }
   ],
   "source": [
    "x=1     #將1這個值放到x\n",
    "y=10    #將10這個值放到y\n",
    "x=x+y   #x的值等於x+y\n",
    "y=x-y   #y的值等於x-y\n",
    "x=x-y   #x的值等於x-y\n",
    "print(x)  \n",
    "print(y)  "
   ]
  },
  {
   "cell_type": "code",
   "execution_count": 4,
   "metadata": {},
   "outputs": [
    {
     "name": "stdout",
     "output_type": "stream",
     "text": [
      "10\n",
      "10\n"
     ]
    }
   ],
   "source": [
    "y=10    #將10這個值放到y\n",
    "x, y = y, x  #將x、y的值對調\n",
    "print(x)  \n",
    "print(y)   "
   ]
  },
  {
   "cell_type": "code",
   "execution_count": 8,
   "metadata": {},
   "outputs": [
    {
     "name": "stdout",
     "output_type": "stream",
     "text": [
      "3\n",
      "4\n",
      "5\n"
     ]
    }
   ],
   "source": [
    "x,y,z=3,4,5  #平行設定\n",
    "print(x)   \n",
    "print(y)   \n",
    "print(z)"
   ]
  },
  {
   "cell_type": "code",
   "execution_count": 13,
   "metadata": {},
   "outputs": [
    {
     "name": "stdout",
     "output_type": "stream",
     "text": [
      "4 8 125\n",
      "3\n"
     ]
    }
   ],
   "source": [
    "x,y,z=3,4,5  #平行設定\n",
    "x += 1  #將x的值相加\n",
    "y *= 2  #Y的次方\n",
    "z **= 3  #Z的3次方\n",
    "print(x,y,z) \n",
    "import math    \n",
    "d=math.sqrt(((3+4+5)/2)*(((3+4+5)/2)-3)*(((3+4+5)/2)-4)*(((3+4+5)/2)-5))  #使用math.sqrt運算後面的數值後傳回給d\n",
    "print(a)"
   ]
  },
  {
   "cell_type": "code",
   "execution_count": 10,
   "metadata": {},
   "outputs": [
    {
     "name": "stdout",
     "output_type": "stream",
     "text": [
      "6.0\n"
     ]
    }
   ],
   "source": [
    "import math \n",
    "a,b,c=3,4,5  #平行設定\n",
    "s=(a+b+c)/2  #將S後面的值運算好丟回S\n",
    "d=math.sqrt(s*(s-a)*(s-b)*(s-c))  #使用math.sqrt運算後面的數值後傳回給d\n",
    "print(d)  "
   ]
  },
  {
   "cell_type": "code",
   "execution_count": 12,
   "metadata": {},
   "outputs": [
    {
     "name": "stdout",
     "output_type": "stream",
     "text": [
      "<class 'int'>\n"
     ]
    },
    {
     "data": {
      "text/plain": [
       "1643702448"
      ]
     },
     "execution_count": 12,
     "metadata": {},
     "output_type": "execute_result"
    }
   ],
   "source": [
    "x=254  \n",
    "print(type(x)) \n",
    "id(x)"
   ]
  },
  {
   "cell_type": "code",
   "execution_count": 14,
   "metadata": {},
   "outputs": [
    {
     "name": "stdout",
     "output_type": "stream",
     "text": [
      "<class 'str'>\n"
     ]
    },
    {
     "data": {
      "text/plain": [
       "1753792"
      ]
     },
     "execution_count": 14,
     "metadata": {},
     "output_type": "execute_result"
    }
   ],
   "source": [
    "x='write'#python動態類型變數，使用前不需要宣告資料型態\n",
    "print(type(x))\n",
    "id(x)"
   ]
  },
  {
   "cell_type": "markdown",
   "metadata": {},
   "source": [
    "## 半徑為4.5，高度為4.5的圓錐體面積為何?"
   ]
  },
  {
   "cell_type": "code",
   "execution_count": 15,
   "metadata": {},
   "outputs": [
    {
     "name": "stdout",
     "output_type": "stream",
     "text": [
      "95.42587685278995\n"
     ]
    }
   ],
   "source": [
    "import math  \n",
    "print((4.5*4.5*math.pi*4.5)/3) "
   ]
  },
  {
   "cell_type": "code",
   "execution_count": 16,
   "metadata": {},
   "outputs": [
    {
     "name": "stdout",
     "output_type": "stream",
     "text": [
      "5.333333333333333\n",
      "5\n",
      "1\n"
     ]
    }
   ],
   "source": [
    "x=16 #將16這個值放到X\n",
    "y=3  #將3這個值放到Y\n",
    "print(x/y)  #兩數相除\n",
    "print(x//y) #求商\n",
    "print(x%y)  #求餘數"
   ]
  },
  {
   "cell_type": "code",
   "execution_count": 17,
   "metadata": {},
   "outputs": [
    {
     "name": "stdout",
     "output_type": "stream",
     "text": [
      "True\n",
      "False\n",
      "20\n"
     ]
    }
   ],
   "source": [
    "#關係運算\n",
    "x=10  #將10這個值放到X\n",
    "print(20==20)  #判斷20是否等於20\n",
    "y=20  #將20這個值放到Y\n",
    "print(x==y) \n",
    "x=y #X的值會跟Y一樣\n",
    "print(x)  #印出X的值"
   ]
  },
  {
   "cell_type": "markdown",
   "metadata": {},
   "source": [
    "## 級聯比較"
   ]
  },
  {
   "cell_type": "code",
   "execution_count": 18,
   "metadata": {},
   "outputs": [
    {
     "name": "stdout",
     "output_type": "stream",
     "text": [
      "True\n"
     ]
    }
   ],
   "source": [
    "a,b,c=10,20,30 #宣告3個數做比較\n",
    "print(a<=b<=c) #判斷這三個數是否符合括弧內的比較"
   ]
  },
  {
   "cell_type": "code",
   "execution_count": 19,
   "metadata": {},
   "outputs": [
    {
     "ename": "SyntaxError",
     "evalue": "invalid syntax (<ipython-input-19-1b4d4d9b3b93>, line 1)",
     "output_type": "error",
     "traceback": [
      "\u001b[1;36m  File \u001b[1;32m\"<ipython-input-19-1b4d4d9b3b93>\"\u001b[1;36m, line \u001b[1;32m1\u001b[0m\n\u001b[1;33m    x=3.141592627 print(x-3.14) #比正確之值略小 #印出括弧內x-3.14之後剩下的餘數\u001b[0m\n\u001b[1;37m                      ^\u001b[0m\n\u001b[1;31mSyntaxError\u001b[0m\u001b[1;31m:\u001b[0m invalid syntax\n"
     ]
    }
   ],
   "source": [
    "x=3.141592627 print(x-3.14) #比正確之值略小 #印出括弧內x-3.14之後剩下的餘數"
   ]
  },
  {
   "cell_type": "markdown",
   "metadata": {},
   "source": [
    "## 邏輯運算 以閏年為例"
   ]
  },
  {
   "cell_type": "code",
   "execution_count": 20,
   "metadata": {},
   "outputs": [
    {
     "ename": "SyntaxError",
     "evalue": "invalid syntax (<ipython-input-20-55a4d40e6ffa>, line 4)",
     "output_type": "error",
     "traceback": [
      "\u001b[1;36m  File \u001b[1;32m\"<ipython-input-20-55a4d40e6ffa>\"\u001b[1;36m, line \u001b[1;32m4\u001b[0m\n\u001b[1;33m    print(y%4==0 and y%100!=0 or y%400==0)print(y%4==0 and y%100!=0 or y%400==0) #判斷Y%4是否等於0且Y%100不等於0或是Y%400等於0，判斷完並印出True或False\u001b[0m\n\u001b[1;37m                                              ^\u001b[0m\n\u001b[1;31mSyntaxError\u001b[0m\u001b[1;31m:\u001b[0m invalid syntax\n"
     ]
    }
   ],
   "source": [
    "y=2010 \n",
    "print(y%4==0 and y%100!=0 or y%400==0) #判斷Y%4是否等於0且Y%100不等於0或是Y$400等於0，判斷完並印出True或False\n",
    "y=2012  \n",
    "print(y%4==0 and y%100!=0 or y%400==0)print(y%4==0 and y%100!=0 or y%400==0) #判斷Y%4是否等於0且Y%100不等於0或是Y%400等於0，判斷完並印出True或False\n",
    "y=2000   \n",
    "print(y%4==0 and y%100!=0 or y%400==0)  print(y%4==0 and y%100!=0 or y%400==0) #判斷Y%4是否等於0且Y%100不等於0或是Y%400等於0，判斷完並印出True或False"
   ]
  },
  {
   "cell_type": "markdown",
   "metadata": {},
   "source": [
    "## 型態轉換"
   ]
  },
  {
   "cell_type": "code",
   "execution_count": 21,
   "metadata": {},
   "outputs": [
    {
     "name": "stdout",
     "output_type": "stream",
     "text": [
      "12.5\n",
      "123\n",
      "123.0\n",
      "123\n",
      "The value of x is 32.5 and y is 40000\n",
      "The value of x is 32.5 and y is 40000\n"
     ]
    }
   ],
   "source": [
    "x=12 #將12這個值放入X\n",
    "y=float(x)+0.5  #宣告浮點數X+0.5後放入Y\n",
    "print(y)  \n",
    "print(int('123'))  #印出的資料型態為整數\n",
    "print(float('123')) #印出的資料型態為浮點數型態(浮點數型態後方即使使整數也會有.0)\n",
    "print(int(123.333)) #印出的資料型態為整數(後方小數點會自動去掉)\n",
    "x=10*3.25 #32.5\n",
    "y=200*200 #40000\n",
    "s='The value of x is ' + str(x) + ' and y is ' + str(y)  #str宣告字串時可以使用\n",
    "s1='The value of x is ' + repr(x) + ' and y is ' + repr(y)\n",
    "print(s)   \n",
    "print(s1)  "
   ]
  },
  {
   "cell_type": "markdown",
   "metadata": {},
   "source": [
    "## 非內置模組"
   ]
  },
  {
   "cell_type": "code",
   "execution_count": 22,
   "metadata": {},
   "outputs": [
    {
     "name": "stdout",
     "output_type": "stream",
     "text": [
      "3.141592653589793\n",
      "8.0\n",
      "26.423892221536985\n",
      "5.0\n"
     ]
    }
   ],
   "source": [
    "import math \n",
    "print(math.pi) \n",
    "print(math.pow(2,3))  #math.pow是次方的意思，印出2的3次方值\n",
    "print(8.3*10.58*math.sin(37.0/180*math.pi)/2) \n",
    "print(math.sqrt(25)) #印出25的平方根"
   ]
  },
  {
   "cell_type": "markdown",
   "metadata": {},
   "source": [
    "## 算圓面積"
   ]
  },
  {
   "cell_type": "code",
   "execution_count": 23,
   "metadata": {},
   "outputs": [
    {
     "name": "stdout",
     "output_type": "stream",
     "text": [
      "請輸入半徑:2\n",
      "圓面積為: 12.566370614359172\n"
     ]
    }
   ],
   "source": [
    "import math \n",
    "r=input(\"請輸入半徑:\") #input可以在執行後讓使用者自行輸入參數\n",
    "area=float(r) * float(r) * math.pi  #將使用者輸入的r轉換型態變成浮點數型態後乘以pi\n",
    "print(\"圓面積為:\" , area)  "
   ]
  },
  {
   "cell_type": "code",
   "execution_count": null,
   "metadata": {},
   "outputs": [],
   "source": []
  }
 ],
 "metadata": {
  "kernelspec": {
   "display_name": "Python 3",
   "language": "python",
   "name": "python3"
  },
  "language_info": {
   "codemirror_mode": {
    "name": "ipython",
    "version": 3
   },
   "file_extension": ".py",
   "mimetype": "text/x-python",
   "name": "python",
   "nbconvert_exporter": "python",
   "pygments_lexer": "ipython3",
   "version": "3.7.6"
  }
 },
 "nbformat": 4,
 "nbformat_minor": 4
}
